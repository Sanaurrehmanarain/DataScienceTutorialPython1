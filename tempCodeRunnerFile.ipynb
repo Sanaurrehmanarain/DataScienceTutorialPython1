plt.figure(figsize = (15, 5))
plt.subplot(1, 2, 1)
sns.countplot(df["student"])

plt.subplot(1, 2, 2)
sns.countplot(df["default"])
plt.show()