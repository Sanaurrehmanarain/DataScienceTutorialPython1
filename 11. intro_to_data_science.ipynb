{
 "cells": [
  {
   "cell_type": "markdown",
   "id": "834d78c0",
   "metadata": {},
   "source": [
    "# INTRODUCTION TO DATA SCIENCE"
   ]
  },
  {
   "cell_type": "markdown",
   "id": "682ef664",
   "metadata": {},
   "source": [
    "![image](images/ds1.png)"
   ]
  },
  {
   "cell_type": "markdown",
   "id": "cf547e2e",
   "metadata": {},
   "source": [
    "![image](images/ds2.png)"
   ]
  },
  {
   "cell_type": "markdown",
   "id": "460c330e",
   "metadata": {},
   "source": [
    "![image](images/ds3.png)"
   ]
  },
  {
   "cell_type": "markdown",
   "id": "fee24aaa",
   "metadata": {},
   "source": [
    "![image](images/ds4.png)"
   ]
  },
  {
   "cell_type": "markdown",
   "id": "7cd44e81",
   "metadata": {},
   "source": [
    "![image](images/ds5.png)"
   ]
  },
  {
   "cell_type": "markdown",
   "id": "a360d65b",
   "metadata": {},
   "source": [
    "![image](images/ds6.png)"
   ]
  },
  {
   "cell_type": "markdown",
   "id": "57fbfd2e",
   "metadata": {},
   "source": [
    "![image](images/ds7.png)"
   ]
  },
  {
   "cell_type": "markdown",
   "id": "10398d3b",
   "metadata": {},
   "source": [
    "![image](images/ds8.png)"
   ]
  },
  {
   "cell_type": "markdown",
   "id": "c4d21088",
   "metadata": {},
   "source": [
    "![image](images/ds9.png)"
   ]
  },
  {
   "cell_type": "markdown",
   "id": "268b3a17",
   "metadata": {},
   "source": [
    "![image](images/ds10.png)"
   ]
  },
  {
   "cell_type": "markdown",
   "id": "ecf6d1a9",
   "metadata": {},
   "source": [
    "![image](images/ds11.png)"
   ]
  },
  {
   "cell_type": "markdown",
   "id": "f52989a5",
   "metadata": {},
   "source": [
    "![image](images/ds12.png)"
   ]
  },
  {
   "cell_type": "markdown",
   "id": "aba9a401",
   "metadata": {},
   "source": [
    "![image](images/ds13.png)"
   ]
  },
  {
   "cell_type": "markdown",
   "id": "479d9e1a",
   "metadata": {},
   "source": [
    "![image](images/ds14.png)"
   ]
  },
  {
   "cell_type": "markdown",
   "id": "27a13175",
   "metadata": {},
   "source": [
    "![image](images/ds15.png)"
   ]
  },
  {
   "cell_type": "markdown",
   "id": "5e5e04c7",
   "metadata": {},
   "source": [
    "![image](images/ds16.png)"
   ]
  },
  {
   "cell_type": "markdown",
   "id": "9e99d3d9",
   "metadata": {},
   "source": [
    "![image](images/ds17.png)"
   ]
  },
  {
   "cell_type": "markdown",
   "id": "8c26cc77",
   "metadata": {},
   "source": [
    "![image](images/ds18.png)"
   ]
  },
  {
   "cell_type": "markdown",
   "id": "1330ea26",
   "metadata": {},
   "source": [
    "![image](images/ds19.png)"
   ]
  },
  {
   "cell_type": "markdown",
   "id": "9e1b9e94",
   "metadata": {},
   "source": [
    "![image](images/ds20.png)"
   ]
  },
  {
   "cell_type": "markdown",
   "id": "165877ad",
   "metadata": {},
   "source": [
    "![image](images/ds21.png)"
   ]
  },
  {
   "cell_type": "markdown",
   "id": "ac7a0537",
   "metadata": {},
   "source": [
    "![image](images/ds22.png)"
   ]
  },
  {
   "cell_type": "markdown",
   "id": "781cc6c5",
   "metadata": {},
   "source": [
    "![image](images/ds23.png)"
   ]
  },
  {
   "cell_type": "markdown",
   "id": "13deb6cb",
   "metadata": {},
   "source": [
    "![image](images/ds24.png)"
   ]
  },
  {
   "cell_type": "markdown",
   "id": "1acd36fe",
   "metadata": {},
   "source": [
    "![image](images/ds25.png)"
   ]
  },
  {
   "cell_type": "markdown",
   "id": "459f5d97",
   "metadata": {},
   "source": [
    "![image](images/ds26.png)"
   ]
  },
  {
   "cell_type": "markdown",
   "id": "be2422b0",
   "metadata": {},
   "source": [
    "![image](images/ds27.png)"
   ]
  },
  {
   "cell_type": "markdown",
   "id": "00f62c16",
   "metadata": {},
   "source": [
    "![image](images/ds28.png)"
   ]
  },
  {
   "cell_type": "markdown",
   "id": "3e476c80",
   "metadata": {},
   "source": [
    "![image](images/ds29.png)"
   ]
  },
  {
   "cell_type": "markdown",
   "id": "b2407ef9",
   "metadata": {},
   "source": [
    "![image](images/ds30.png)"
   ]
  },
  {
   "cell_type": "markdown",
   "id": "73a41a22",
   "metadata": {},
   "source": [
    "![image](images/ds31.png)"
   ]
  },
  {
   "cell_type": "markdown",
   "id": "6552c292",
   "metadata": {},
   "source": [
    "![image](images/ds32.png)"
   ]
  },
  {
   "cell_type": "markdown",
   "id": "99ffe1a5",
   "metadata": {},
   "source": [
    "![image](images/ds33.png)"
   ]
  },
  {
   "cell_type": "markdown",
   "id": "81e2fa31",
   "metadata": {},
   "source": [
    "![image](images/ds34.png)"
   ]
  },
  {
   "cell_type": "markdown",
   "id": "bfd4dff8",
   "metadata": {},
   "source": [
    "![image](images/ds35.png)"
   ]
  },
  {
   "cell_type": "markdown",
   "id": "9609a017",
   "metadata": {},
   "source": [
    "![image](images/ds36.png)"
   ]
  },
  {
   "cell_type": "markdown",
   "id": "732ee998",
   "metadata": {},
   "source": [
    "![image](images/ds37.png)"
   ]
  },
  {
   "cell_type": "markdown",
   "id": "b9833f0d",
   "metadata": {},
   "source": [
    "![image](images/ds38.png)"
   ]
  },
  {
   "cell_type": "markdown",
   "id": "fa683832",
   "metadata": {},
   "source": [
    "![image](images/ds39.png)"
   ]
  },
  {
   "cell_type": "markdown",
   "id": "2dd9cc46",
   "metadata": {},
   "source": [
    "![image](images/ds40.png)"
   ]
  },
  {
   "cell_type": "markdown",
   "id": "882d8c53",
   "metadata": {},
   "source": [
    "![image](images/ds41.png)"
   ]
  },
  {
   "cell_type": "markdown",
   "id": "717c5e47",
   "metadata": {},
   "source": [
    "![image](images/ds42.png)"
   ]
  },
  {
   "cell_type": "markdown",
   "id": "edf39012",
   "metadata": {},
   "source": [
    "![image](images/ds43.png)"
   ]
  },
  {
   "cell_type": "markdown",
   "id": "a2cf1058",
   "metadata": {},
   "source": [
    "![image](images/ds44.png)"
   ]
  },
  {
   "cell_type": "markdown",
   "id": "d84653d5",
   "metadata": {},
   "source": [
    "![image](images/ds45.png)"
   ]
  },
  {
   "cell_type": "markdown",
   "id": "eae82655",
   "metadata": {},
   "source": [
    "![image](images/ds46.png)"
   ]
  },
  {
   "cell_type": "markdown",
   "id": "873663c7",
   "metadata": {},
   "source": [
    "![image](images/ds47.png)"
   ]
  },
  {
   "cell_type": "markdown",
   "id": "706b4541",
   "metadata": {},
   "source": [
    "![image](images/ds48.png)"
   ]
  },
  {
   "cell_type": "markdown",
   "id": "d35c4350",
   "metadata": {},
   "source": [
    "![image](images/ds49.png)"
   ]
  }
 ],
 "metadata": {
  "kernelspec": {
   "display_name": "myenv",
   "language": "python",
   "name": "python3"
  },
  "language_info": {
   "name": "python",
   "version": "3.13.5"
  }
 },
 "nbformat": 4,
 "nbformat_minor": 5
}
