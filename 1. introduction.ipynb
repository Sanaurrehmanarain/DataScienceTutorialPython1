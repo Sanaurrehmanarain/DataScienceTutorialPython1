{
 "cells": [
  {
   "cell_type": "markdown",
   "metadata": {},
   "source": [
    "# VARIABLES & DATA TYPES\n",
    "Data/values can be stored in temporary storage spaces called variables.\n",
    "\n",
    "Every variable is associated with a data-type."
   ]
  },
  {
   "cell_type": "code",
   "execution_count": 4,
   "metadata": {},
   "outputs": [
    {
     "name": "stdout",
     "output_type": "stream",
     "text": [
      "<class 'str'>\n",
      "<class 'int'>\n",
      "<class 'float'>\n",
      "<class 'bool'>\n"
     ]
    }
   ],
   "source": [
    "# String\n",
    "name = \"Matt\"\n",
    "\n",
    "# Int\n",
    "num = 1\n",
    "\n",
    "# Float\n",
    "value = 10.5\n",
    "\n",
    "# Boolean\n",
    "bol = True\n",
    "\n",
    "print(type(name))\n",
    "print(type(num))\n",
    "print(type(value))\n",
    "print(type(bol))"
   ]
  },
  {
   "cell_type": "code",
   "execution_count": 2,
   "metadata": {},
   "outputs": [
    {
     "name": "stdout",
     "output_type": "stream",
     "text": [
      "(3+4j)\n",
      "<class 'complex'>\n",
      "3.0\n",
      "4.0\n"
     ]
    }
   ],
   "source": [
    "# Complex number\n",
    "complex_num = 3 + 4j\n",
    "\n",
    "# Printing the complex number\n",
    "print(complex_num)  \n",
    "print(type(complex_num))\n",
    "\n",
    "# Accessing real and imaginary parts\n",
    "print(complex_num.real)  \n",
    "print(complex_num.imag) "
   ]
  },
  {
   "cell_type": "markdown",
   "metadata": {},
   "source": [
    "A complex variable in Python is a number that has both a real and an imaginary part. The imaginary part is represented using j or J."
   ]
  },
  {
   "cell_type": "markdown",
   "metadata": {},
   "source": [
    "# Python Operators\n",
    "\n",
    "Operators are special symbols used to perform operations on values and variables.\n",
    "\n",
    "## 1. Arithmetic Operators\n",
    "Used for mathematical calculations.\n",
    "\n",
    "| Operator | Description | Example (`a = 10, b = 3`) | Result |\n",
    "|----------|------------|------------------|--------|\n",
    "| `+` | Addition | `a + b` | `13` |\n",
    "| `-` | Subtraction | `a - b` | `7` |\n",
    "| `*` | Multiplication | `a * b` | `30` |\n",
    "| `/` | Division | `a / b` | `3.3333` |\n",
    "| `//` | Floor Division | `a // b` | `3` (removes decimal part) |\n",
    "| `%` | Modulus (Remainder) | `a % b` | `1` |\n",
    "| `**` | Exponentiation | `a ** b` | `1000` |\n",
    "\n",
    "## 2. Comparison (Relational) Operators\n",
    "Used to compare two values (returns `True` or `False`).\n",
    "\n",
    "| Operator | Description | Example (`a = 10, b = 3`) | Result |\n",
    "|----------|------------|------------------|--------|\n",
    "| `==` | Equal to | `a == b` | `False` |\n",
    "| `!=` | Not equal to | `a != b` | `True` |\n",
    "| `>` | Greater than | `a > b` | `True` |\n",
    "| `<` | Less than | `a < b` | `False` |\n",
    "| `>=` | Greater than or equal to | `a >= b` | `True` |\n",
    "| `<=` | Less than or equal to | `a <= b` | `False` |\n",
    "\n",
    "## 3. Logical Operators\n",
    "Used to combine conditional statements.\n",
    "\n",
    "| Operator | Description | Example (`x = True, y = False`) | Result |\n",
    "|----------|------------|------------------|--------|\n",
    "| `and` | Returns `True` if both are `True` | `x and y` | `False` |\n",
    "| `or` | Returns `True` if at least one is `True` | `x or y` | `True` |\n",
    "| `not` | Reverses the result | `not x` | `False` |\n",
    "\n",
    "## 4. Bitwise Operators\n",
    "Used to perform operations at the **binary level**.\n",
    "\n",
    "| Operator | Description | Example (`a = 5 (0101), b = 3 (0011)`) | Result |\n",
    "|----------|------------|------------------|--------|\n",
    "| `&` | AND | `a & b` | `1` (`0001`) |\n",
    "| `|` | OR | `a | b` | `7` (`0111`) |\n",
    "| `^` | XOR | `a ^ b` | `6` (`0110`) |\n",
    "| `~` | NOT | `~a` | `-6` (Inverts bits) |\n",
    "| `<<` | Left Shift | `a << 1` | `10` (`1010`) |\n",
    "| `>>` | Right Shift | `a >> 1` | `2` (`0010`) |\n",
    "\n",
    "## 5. Assignment Operators\n",
    "Used to assign values to variables.\n",
    "\n",
    "| Operator | Example (`a = 10`) | Equivalent To | Result |\n",
    "|----------|------------------|--------------|--------|\n",
    "| `=` | `a = 10` | Assign value | `a = 10` |\n",
    "| `+=` | `a += 5` | `a = a + 5` | `a = 15` |\n",
    "| `-=` | `a -= 3` | `a = a - 3` | `a = 7` |\n",
    "| `*=` | `a *= 2` | `a = a * 2` | `a = 20` |\n",
    "| `/=` | `a /= 4` | `a = a / 4` | `a = 2.5` |\n",
    "| `//=` | `a //= 3` | `a = a // 3` | `a = 3` |\n",
    "| `%=` | `a %= 3` | `a = a % 3` | `a = 1` |\n",
    "| `**=` | `a **= 2` | `a = a ** 2` | `a = 100` |\n",
    "\n",
    "## 6. Membership Operators\n",
    "Check whether a value is in a sequence (like a list, tuple, string).\n",
    "\n",
    "| Operator | Description | Example | Result |\n",
    "|----------|------------|---------|--------|\n",
    "| `in` | Returns `True` if value is found | `\"a\" in \"apple\"` | `True` |\n",
    "| `not in` | Returns `True` if value is **not** found | `\"x\" not in \"apple\"` | `True` |\n",
    "\n",
    "## 7. Identity Operators\n",
    "Check if two variables reference the same object.\n",
    "\n",
    "| Operator | Description | Example (`a = 5, b = 5`) | Result |\n",
    "|----------|------------|------------------|--------|\n",
    "| `is` | Returns `True` if both are same object | `a is b` | `True` |\n",
    "| `is not` | Returns `True` if not same object | `a is not b` | `False` |"
   ]
  },
  {
   "cell_type": "markdown",
   "metadata": {},
   "source": [
    "Example Usage of Operators in Python"
   ]
  },
  {
   "cell_type": "code",
   "execution_count": 6,
   "metadata": {},
   "outputs": [
    {
     "name": "stdout",
     "output_type": "stream",
     "text": [
      "13\n",
      "1000\n",
      "True\n",
      "False\n",
      "True\n",
      "False\n"
     ]
    }
   ],
   "source": [
    "a = 10\n",
    "b = 3\n",
    "\n",
    "# Arithmetic Operators\n",
    "print(a + b)  # 13\n",
    "print(a ** b)  # 1000\n",
    "\n",
    "# Comparison Operators\n",
    "print(a > b)  # True\n",
    "\n",
    "# Logical Operators\n",
    "x = True\n",
    "y = False\n",
    "print(x and y)  # False\n",
    "\n",
    "# Membership Operators\n",
    "\n",
    "my_list = [1, 2, 3, 4]\n",
    "print(2 in my_list)  # True\n",
    "\n",
    "# Identity Operators\n",
    "c = [1, 2, 3]\n",
    "d = [1, 2, 3]\n",
    "print(c is d)  # False (different memory locations)"
   ]
  },
  {
   "cell_type": "markdown",
   "metadata": {},
   "source": [
    "# PYTHON TOKENS\n",
    "Smallest meaningful component in a program.\n",
    "- **keywords**\n",
    "- **identifiers**\n",
    "    - Identifiers are the names used to identify variables, functions, classes, modules, and objects in Python.\n",
    "        - *Rules*\n",
    "            - No special character expect _(undersocre)\n",
    "            - Indentifiers are case sensitive\n",
    "            - First letter cannot be a digit\n",
    "    ```python\n",
    "    # Valid identifiers\n",
    "    my_variable = 10\n",
    "    _age = 25\n",
    "    UserName = \"Alice\"\n",
    "\n",
    "    # Invalid identifiers (will cause errors)\n",
    "    2name = \"John\"  # Cannot start with a digit\n",
    "    if = 50         # \"if\" is a keyword\n",
    "    user-name = \"Tom\"  # Hyphens are not allowed\n",
    "    ```\n",
    "- **literals** \n",
    "    - Literals are constant values assigned to variables in Python. They represent fixed values.\n",
    "    ```python\n",
    "    name = \"Alice\"   # Double quotes\n",
    "    message = 'Hello, World!'  # Single quotes\n",
    "    multi_line = \"\"\"This is\n",
    "    a multi-line string.\"\"\"  # Triple quotes\n",
    "    ```\n",
    "  \n",
    "- **operators**\n",
    "    - Operators are special symbols used to perform operations on values and variables.\n",
    "### Python Keywords\n",
    "\n",
    "Python keywords are reserved words that have a special meaning and cannot be used as identifiers (variable names, function names, etc.).\n",
    "\n",
    "### List of Python Keywords (as of Python 3.10)\n",
    "\n",
    "| Keyword     | Description |\n",
    "|------------|-------------|\n",
    "| `False`    | Boolean false value |\n",
    "| `None`     | Represents a null value |\n",
    "| `True`     | Boolean true value |\n",
    "| `and`      | Logical AND operator |\n",
    "| `as`       | Used for aliasing (e.g., import module as alias) |\n",
    "| `assert`   | Debugging tool for condition checking |\n",
    "| `async`    | Defines an asynchronous function |\n",
    "| `await`    | Waits for an asynchronous operation |\n",
    "| `break`    | Exits a loop |\n",
    "| `class`    | Defines a class |\n",
    "| `continue` | Skips the current loop iteration |\n",
    "| `def`      | Defines a function |\n",
    "| `del`      | Deletes an object |\n",
    "| `elif`     | Else if condition |\n",
    "| `else`     | Alternative condition block |\n",
    "| `except`   | Handles exceptions |\n",
    "| `finally`  | Executes code after try-except |\n",
    "| `for`      | Loop construct |\n",
    "| `from`     | Imports specific parts of a module |\n",
    "| `global`   | Declares a global variable |\n",
    "| `if`       | Conditional statement |\n",
    "| `import`   | Imports a module |\n",
    "| `in`       | Membership test operator |\n",
    "| `is`       | Identity comparison operator |\n",
    "| `lambda`   | Defines an anonymous function |\n",
    "| `nonlocal` | Refers to variables in the outer function scope |\n",
    "| `not`      | Logical NOT operator |\n",
    "| `or`       | Logical OR operator |\n",
    "| `pass`     | Placeholder for code block |\n",
    "| `raise`    | Raises an exception |\n",
    "| `return`   | Returns a value from a function |\n",
    "| `try`      | Defines a try-except block |\n",
    "| `while`    | Loop construct |\n",
    "| `with`     | Simplifies exception handling for resources |\n",
    "| `yield`    | Returns a generator value |\n",
    "\n",
    "> **Note:** Python keywords are case-sensitive."
   ]
  },
  {
   "cell_type": "code",
   "execution_count": 8,
   "metadata": {},
   "outputs": [
    {
     "data": {
      "text/plain": [
       "'\\nThis string\\nhas lot\\nof lines\\nlike this...\\n'"
      ]
     },
     "execution_count": 8,
     "metadata": {},
     "output_type": "execute_result"
    }
   ],
   "source": [
    "# You can use tripple quotes to store multi line string\n",
    "str1 = '''\n",
    "This string\n",
    "has lot\n",
    "of lines\n",
    "like this...\n",
    "'''\n",
    "str1"
   ]
  },
  {
   "cell_type": "markdown",
   "metadata": {},
   "source": [
    "## Extracting Characters"
   ]
  },
  {
   "cell_type": "code",
   "execution_count": 17,
   "metadata": {},
   "outputs": [
    {
     "name": "stdout",
     "output_type": "stream",
     "text": [
      "name\n",
      "John\n"
     ]
    }
   ],
   "source": [
    "str2 = \"My name is John\"\n",
    "print(str2[3 : 7])\n",
    "print(str2[-4 : ])"
   ]
  },
  {
   "cell_type": "markdown",
   "metadata": {},
   "source": [
    "## String Functions"
   ]
  },
  {
   "cell_type": "code",
   "execution_count": 18,
   "metadata": {},
   "outputs": [
    {
     "name": "stdout",
     "output_type": "stream",
     "text": [
      "15\n",
      "my name is john\n",
      "MY NAME IS JOHN\n"
     ]
    }
   ],
   "source": [
    "# finding the length of string\n",
    "print(len(str2))\n",
    "# converting to lower case\n",
    "print(str2.lower())\n",
    "# converting to upper case\n",
    "print(str2.upper())"
   ]
  },
  {
   "cell_type": "code",
   "execution_count": 21,
   "metadata": {},
   "outputs": [
    {
     "name": "stdout",
     "output_type": "stream",
     "text": [
      "Your name is John\n",
      "1\n"
     ]
    }
   ],
   "source": [
    "# replacing a substring\n",
    "print(str2.replace(\"My\", \"Your\"))\n",
    "# number of occurences of substring\n",
    "print(str2.count(\"m\"))"
   ]
  },
  {
   "cell_type": "code",
   "execution_count": 22,
   "metadata": {},
   "outputs": [
    {
     "name": "stdout",
     "output_type": "stream",
     "text": [
      "8\n"
     ]
    },
    {
     "data": {
      "text/plain": [
       "['I like apples', ' mangoes', ' bananas']"
      ]
     },
     "execution_count": 22,
     "metadata": {},
     "output_type": "execute_result"
    }
   ],
   "source": [
    "# finding the index of substring\n",
    "print(str2.find(\"is\"))\n",
    "# splitting a string\n",
    "fruit = \"I like apples, mangoes, bananas\"\n",
    "fruit.split(\",\")"
   ]
  }
 ],
 "metadata": {
  "kernelspec": {
   "display_name": "base",
   "language": "python",
   "name": "python3"
  },
  "language_info": {
   "codemirror_mode": {
    "name": "ipython",
    "version": 3
   },
   "file_extension": ".py",
   "mimetype": "text/x-python",
   "name": "python",
   "nbconvert_exporter": "python",
   "pygments_lexer": "ipython3",
   "version": "3.10.8"
  }
 },
 "nbformat": 4,
 "nbformat_minor": 2
}
