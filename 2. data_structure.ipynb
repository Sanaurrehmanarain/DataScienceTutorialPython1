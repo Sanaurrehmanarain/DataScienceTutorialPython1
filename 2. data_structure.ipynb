{
 "cells": [
  {
   "cell_type": "markdown",
   "metadata": {},
   "source": [
    "# DATA STRUCTURES\n",
    "1. Tuple\n",
    "    - Tuple is an `ordered` collection of elements enclosed within ()\n",
    "    - Tupes are `immutable`, you can not change the value after storing.\n",
    "    - tup = (1, \"a\", True)\n",
    "2. List\n",
    "    - List is an `unordered` collection of elements enclosed within []\n",
    "    - Lists are `mutable`, you can change the value after storing.\n",
    "    - lst = [1, \"a\", True]\n",
    "3. Dictionary\n",
    "    - Dictionary is an `unordered` collection of key-value pairs enclosed with {}\n",
    "    - Dictionary is `mutable`\n",
    "    - Fruit = {\"Apple\": 10, \"Organge\": 20}\n",
    "4. Set\n",
    "    - Set is an `unordered` and `unindexed` collection of elements enclosed with {}\n",
    "    - `Duplicates` are not allowd in Set\n",
    "    - s1 = {1, \"a\", True}"
   ]
  },
  {
   "cell_type": "markdown",
   "metadata": {},
   "source": [
    "![image](images/19.png)"
   ]
  },
  {
   "cell_type": "markdown",
   "metadata": {},
   "source": [
    "### Examples of tuple"
   ]
  },
  {
   "cell_type": "code",
   "execution_count": 3,
   "metadata": {},
   "outputs": [
    {
     "name": "stdout",
     "output_type": "stream",
     "text": [
      "<class 'tuple'>\n",
      "1\n",
      "False\n",
      "('a', True, 2)\n",
      "6\n"
     ]
    },
    {
     "data": {
      "text/plain": [
       "('sparta', 300, 'sparta', 300, 'sparta', 300)"
      ]
     },
     "execution_count": 3,
     "metadata": {},
     "output_type": "execute_result"
    }
   ],
   "source": [
    "tup1 = (1, \"a\", True, 2, \"b\", False)\n",
    "\n",
    "print(type(tup1))\n",
    "\n",
    "# Extracting individual elements\n",
    "print(tup1[0])\n",
    "print(tup1[-1])\n",
    "print(tup1[1:4])\n",
    "\n",
    "# Finding length of tuple\n",
    "print(len(tup1))\n",
    "\n",
    "# Concatenating tuples\n",
    "tup2 = (1, 2, 3)\n",
    "tup3 = (4, 5, 6)\n",
    "\n",
    "tup2 + tup3\n",
    "\n",
    "# Repeating tuple elements\n",
    "tup4 = (\"sparta\", 300)\n",
    "tup4 * 3"
   ]
  },
  {
   "cell_type": "markdown",
   "metadata": {},
   "source": [
    "### Tuple Functions"
   ]
  },
  {
   "cell_type": "code",
   "execution_count": null,
   "metadata": {},
   "outputs": [
    {
     "name": "stdout",
     "output_type": "stream",
     "text": [
      "1\n",
      "3\n"
     ]
    }
   ],
   "source": [
    "print(min(tup2)) # min func\n",
    "print(max(tup2)) # max func"
   ]
  },
  {
   "cell_type": "markdown",
   "metadata": {},
   "source": [
    "### Examples of list"
   ]
  },
  {
   "cell_type": "code",
   "execution_count": 19,
   "metadata": {},
   "outputs": [
    {
     "name": "stdout",
     "output_type": "stream",
     "text": [
      "2\n",
      "[2, 'b', 3]\n"
     ]
    }
   ],
   "source": [
    "# extracting individual elements\n",
    "l1 = [1, \"a\", 2, \"b\", 3, \"c\"]\n",
    "print(l1[2]) \n",
    "print(l1[2 : 5])"
   ]
  },
  {
   "cell_type": "code",
   "execution_count": 20,
   "metadata": {},
   "outputs": [
    {
     "data": {
      "text/plain": [
       "[100, 'a', 2, 'b', 3, 'c']"
      ]
     },
     "execution_count": 20,
     "metadata": {},
     "output_type": "execute_result"
    }
   ],
   "source": [
    "# modifying a list\n",
    "l1[0] = 100\n",
    "l1"
   ]
  },
  {
   "cell_type": "code",
   "execution_count": 21,
   "metadata": {},
   "outputs": [
    {
     "data": {
      "text/plain": [
       "[100, 'a', 2, 'b', 3]"
      ]
     },
     "execution_count": 21,
     "metadata": {},
     "output_type": "execute_result"
    }
   ],
   "source": [
    "# popping the last element\n",
    "l1.pop()\n",
    "l1"
   ]
  },
  {
   "cell_type": "code",
   "execution_count": 22,
   "metadata": {},
   "outputs": [
    {
     "data": {
      "text/plain": [
       "[100, 'a', 2, 'b', 3, 'sparta']"
      ]
     },
     "execution_count": 22,
     "metadata": {},
     "output_type": "execute_result"
    }
   ],
   "source": [
    "# appending a new element\n",
    "l1.append(\"sparta\")\n",
    "l1"
   ]
  },
  {
   "cell_type": "code",
   "execution_count": 23,
   "metadata": {},
   "outputs": [
    {
     "data": {
      "text/plain": [
       "['sparta', 3, 'b', 2, 'a', 100]"
      ]
     },
     "execution_count": 23,
     "metadata": {},
     "output_type": "execute_result"
    }
   ],
   "source": [
    "# reversing elements of a list\n",
    "l1.reverse()\n",
    "l1"
   ]
  },
  {
   "cell_type": "code",
   "execution_count": 24,
   "metadata": {},
   "outputs": [
    {
     "data": {
      "text/plain": [
       "['apple', 'banana', 'guava', 'mango']"
      ]
     },
     "execution_count": 24,
     "metadata": {},
     "output_type": "execute_result"
    }
   ],
   "source": [
    "# sorting a list\n",
    "l2 = [\"mango\", \"banana\", \"guava\", \"apple\"]\n",
    "l2.sort()\n",
    "l2"
   ]
  },
  {
   "cell_type": "code",
   "execution_count": null,
   "metadata": {},
   "outputs": [
    {
     "data": {
      "text/plain": [
       "['sparta', 3, 'b', 2, 200, 'a', 100]"
      ]
     },
     "execution_count": 25,
     "metadata": {},
     "output_type": "execute_result"
    }
   ],
   "source": [
    "# inserting element at a specified index\n",
    "l1.insert(4, 200) # insert 200 at index 4\n",
    "l1"
   ]
  },
  {
   "cell_type": "code",
   "execution_count": 26,
   "metadata": {},
   "outputs": [
    {
     "data": {
      "text/plain": [
       "['sparta', 3, 'b', 2, 200, 'a', 100, 'apple', 'banana', 'guava', 'mango']"
      ]
     },
     "execution_count": 26,
     "metadata": {},
     "output_type": "execute_result"
    }
   ],
   "source": [
    "# concatenating lists\n",
    "l1 + l2"
   ]
  },
  {
   "cell_type": "code",
   "execution_count": 27,
   "metadata": {},
   "outputs": [
    {
     "data": {
      "text/plain": [
       "['apple', 'banana', 'guava', 'mango', 'apple', 'banana', 'guava', 'mango']"
      ]
     },
     "execution_count": 27,
     "metadata": {},
     "output_type": "execute_result"
    }
   ],
   "source": [
    "# repeating elements\n",
    "l2 * 2"
   ]
  },
  {
   "cell_type": "markdown",
   "metadata": {},
   "source": [
    "### Examples of dictionary"
   ]
  },
  {
   "cell_type": "code",
   "execution_count": 28,
   "metadata": {},
   "outputs": [
    {
     "data": {
      "text/plain": [
       "dict"
      ]
     },
     "execution_count": 28,
     "metadata": {},
     "output_type": "execute_result"
    }
   ],
   "source": [
    "d1 = {\n",
    "    \"Apple\": 50,\n",
    "    \"Mango\": 100,\n",
    "    \"Guava\": 200,\n",
    "    \"Banana\": 500,\n",
    "    \"Kiwi\": 90,\n",
    "    \"Pineapple\": 180\n",
    "}\n",
    "\n",
    "type(d1)"
   ]
  },
  {
   "cell_type": "code",
   "execution_count": 29,
   "metadata": {},
   "outputs": [
    {
     "data": {
      "text/plain": [
       "dict_keys(['Apple', 'Mango', 'Guava', 'Banana', 'Kiwi', 'Pineapple'])"
      ]
     },
     "execution_count": 29,
     "metadata": {},
     "output_type": "execute_result"
    }
   ],
   "source": [
    "# extracting keys\n",
    "d1.keys()"
   ]
  },
  {
   "cell_type": "code",
   "execution_count": 30,
   "metadata": {},
   "outputs": [
    {
     "data": {
      "text/plain": [
       "dict_values([50, 100, 200, 500, 90, 180])"
      ]
     },
     "execution_count": 30,
     "metadata": {},
     "output_type": "execute_result"
    }
   ],
   "source": [
    "# extracting values\n",
    "d1.values()"
   ]
  },
  {
   "cell_type": "code",
   "execution_count": 31,
   "metadata": {},
   "outputs": [
    {
     "data": {
      "text/plain": [
       "{'Apple': 50,\n",
       " 'Mango': 100,\n",
       " 'Guava': 200,\n",
       " 'Banana': 500,\n",
       " 'Kiwi': 90,\n",
       " 'Pineapple': 180,\n",
       " 'Strawberry': 230}"
      ]
     },
     "execution_count": 31,
     "metadata": {},
     "output_type": "execute_result"
    }
   ],
   "source": [
    "# adding a new element\n",
    "d1[\"Strawberry\"] = 230\n",
    "d1"
   ]
  },
  {
   "cell_type": "code",
   "execution_count": 32,
   "metadata": {},
   "outputs": [
    {
     "data": {
      "text/plain": [
       "{'Apple': 70,\n",
       " 'Mango': 100,\n",
       " 'Guava': 200,\n",
       " 'Banana': 500,\n",
       " 'Kiwi': 90,\n",
       " 'Pineapple': 180,\n",
       " 'Strawberry': 230}"
      ]
     },
     "execution_count": 32,
     "metadata": {},
     "output_type": "execute_result"
    }
   ],
   "source": [
    "# changing an existing element\n",
    "d1[\"Apple\"] = 70\n",
    "d1"
   ]
  },
  {
   "cell_type": "code",
   "execution_count": 33,
   "metadata": {},
   "outputs": [
    {
     "data": {
      "text/plain": [
       "{'Apple': 70,\n",
       " 'Mango': 100,\n",
       " 'Guava': 200,\n",
       " 'Banana': 500,\n",
       " 'Kiwi': 90,\n",
       " 'Pineapple': 180,\n",
       " 'Strawberry': 230,\n",
       " 'Grape': 22,\n",
       " 'Blueberry': 55,\n",
       " 'PassionFruit': 290}"
      ]
     },
     "execution_count": 33,
     "metadata": {},
     "output_type": "execute_result"
    }
   ],
   "source": [
    "# update one dictionary's elements with another\n",
    "d2 = {\"Grape\": 22,\n",
    "    \"Blueberry\": 55,\n",
    "    \"PassionFruit\": 290\n",
    "}\n",
    "\n",
    "d1.update(d2)\n",
    "d1"
   ]
  },
  {
   "cell_type": "code",
   "execution_count": 34,
   "metadata": {},
   "outputs": [
    {
     "data": {
      "text/plain": [
       "{'Apple': 70,\n",
       " 'Mango': 100,\n",
       " 'Guava': 200,\n",
       " 'Banana': 500,\n",
       " 'Kiwi': 90,\n",
       " 'Pineapple': 180,\n",
       " 'Strawberry': 230,\n",
       " 'Grape': 22,\n",
       " 'Blueberry': 55}"
      ]
     },
     "execution_count": 34,
     "metadata": {},
     "output_type": "execute_result"
    }
   ],
   "source": [
    "# popping an element\n",
    "d1.pop(\"PassionFruit\")\n",
    "d1"
   ]
  },
  {
   "cell_type": "markdown",
   "metadata": {},
   "source": [
    "### Examples of set"
   ]
  },
  {
   "cell_type": "code",
   "execution_count": 49,
   "metadata": {},
   "outputs": [
    {
     "data": {
      "text/plain": [
       "{1, 2, False, 'Hello', 'a', 'b'}"
      ]
     },
     "execution_count": 49,
     "metadata": {},
     "output_type": "execute_result"
    }
   ],
   "source": [
    "# add an element in a set\n",
    "s1 = {1, \"a\", True, 2, \"b\", False}\n",
    "s1.add(\"Hello\")\n",
    "s1"
   ]
  },
  {
   "cell_type": "code",
   "execution_count": 50,
   "metadata": {},
   "outputs": [
    {
     "data": {
      "text/plain": [
       "{1, 10, 2, 20, 30, 'Bye', False, 'Hello', 'a', 'b'}"
      ]
     },
     "execution_count": 50,
     "metadata": {},
     "output_type": "execute_result"
    }
   ],
   "source": [
    "# updating multiple elements\n",
    "s1.update([10, 20, 30, \"Bye\"])\n",
    "s1"
   ]
  },
  {
   "cell_type": "code",
   "execution_count": 51,
   "metadata": {},
   "outputs": [
    {
     "data": {
      "text/plain": [
       "{1, 10, 2, 20, 30, False, 'Hello', 'a', 'b'}"
      ]
     },
     "execution_count": 51,
     "metadata": {},
     "output_type": "execute_result"
    }
   ],
   "source": [
    "# removing an element\n",
    "s1.remove(\"Bye\")\n",
    "s1"
   ]
  },
  {
   "cell_type": "code",
   "execution_count": 52,
   "metadata": {},
   "outputs": [
    {
     "data": {
      "text/plain": [
       "{1, 2, 3, 'a', 'b', 'c'}"
      ]
     },
     "execution_count": 52,
     "metadata": {},
     "output_type": "execute_result"
    }
   ],
   "source": [
    "# union of two sets\n",
    "s2 = {1, 2, 3}\n",
    "s3 = {\"a\", \"b\", \"c\"}\n",
    "s2.union(s3)"
   ]
  },
  {
   "cell_type": "code",
   "execution_count": 53,
   "metadata": {},
   "outputs": [
    {
     "data": {
      "text/plain": [
       "{5, 6, 7, 8}"
      ]
     },
     "execution_count": 53,
     "metadata": {},
     "output_type": "execute_result"
    }
   ],
   "source": [
    "# intersection of two sets\n",
    "s4 = {1, 2, 3, 4, 5, 6, 7, 8}\n",
    "s5 = {5, 6, 7, 8, 9, 10}\n",
    "s4.intersection(s5)"
   ]
  }
 ],
 "metadata": {
  "kernelspec": {
   "display_name": "base",
   "language": "python",
   "name": "python3"
  },
  "language_info": {
   "codemirror_mode": {
    "name": "ipython",
    "version": 3
   },
   "file_extension": ".py",
   "mimetype": "text/x-python",
   "name": "python",
   "nbconvert_exporter": "python",
   "pygments_lexer": "ipython3",
   "version": "3.10.8"
  }
 },
 "nbformat": 4,
 "nbformat_minor": 2
}
